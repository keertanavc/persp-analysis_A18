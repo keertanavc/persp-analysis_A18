{
 "cells": [
  {
   "cell_type": "markdown",
   "metadata": {},
   "source": [
    "# Assignment 3 - MACS 300\n",
    "## Name: Keertana V. Chidambaram (12211266)"
   ]
  },
  {
   "cell_type": "markdown",
   "metadata": {},
   "source": [
    "## 1. Simulation in Sociology (Moretti - 2002)"
   ]
  },
  {
   "cell_type": "markdown",
   "metadata": {},
   "source": [
    "The paper, ‘Computer Simulation in Sociology’ (Sabrina Moretti, 2002) discusses the role, relevance, and restrictions of computer simulations in sociology. Broadly, four different types of models have been discussed: System Dynamics, Multiagent Systems, Cellular Automata, and Genetic Algorithms. \n"
   ]
  },
  {
   "cell_type": "markdown",
   "metadata": {},
   "source": [
    "The Multiagent Systems and the Cellular Automata models try to model individuals in a system to understand the emergence of macro patterns. However, the Multiagent Systems models should improve along three different dimensions to be a closer representation of reality: improved theories for rationalization (to include learning and adaptation), formalization of aspects of psychological theories (emotions, motivations, etc.) and formalization of knowledge (e.g. formalizing common sense). "
   ]
  },
  {
   "cell_type": "markdown",
   "metadata": {},
   "source": [
    "Similarly, in the case of Cellular Automata, the author identifies two restrictions that prevent it from accurately depicting the real world. First, in the model, all the individual players update information at set frequencies according to a global clock. But real people change attitudes and opinions at very different times. This error can be reduced by ensuring that not all agents gain information at each round of updating. Second, in the model, agents only interact with their neighbors. But in the real world, information transfer can occur between distant locations (with the use of media), and neighborhoods can change over time. "
   ]
  },
  {
   "cell_type": "markdown",
   "metadata": {},
   "source": [
    "Apart from the weaknesses stemming out of the model formulation, errors can also occur while cross-checking model outputs with real-world data. One problem is in the comparison of artificial data with real data. Computational models can only give quantitative outputs for a social model. The problem arises when we try to find meaning in these quantitative outputs. The author gives an example from politics to prove this point. For example, let us say that a model describes 'political prestige' as a real number between 0 and 1 and the results shows 0.4. The challenge here is to understand how exactly '0.4' translates to the real world - does it mean more or less political prestige? Another problem stems from measurement error. There are no absolute scales to measure a social variable. Thus, a measurement is always dependent on the intuition of the researchers. If the measurements i.e. the inputs to the model cannot be fully trusted, the model's validity will be questioned. Hence, computational models find less acceptance when applied to model a social phenomenon. "
   ]
  },
  {
   "cell_type": "markdown",
   "metadata": {},
   "source": [
    "While discussing the models, the paper also delves into the concept of dynamic feedback. The author gives an example from the paper Doranet. al. (1994). The paper is based on the theory that individuals aim to collaborate with others when they are in a situation of economic variability, and collaboration allows them to survive. They use the model to understand how villages are developed and how hierarchies are formed in the village. Here, simulative experiments are used to understand how feedback between individuals lead to the formation of hierarchies in a social group. The relationship between winning chances and donations in political science is another example of dynamic feedback. The donation to a political campaign depends on the likelihood of the party winning the election. But an increase in donation further leads to an increase in winning chances leading to even more funds. Thus, even small differences in competitive advantage at the start of a campaign can lead to significant variations in winning chances for the elections. "
   ]
  },
  {
   "cell_type": "markdown",
   "metadata": {},
   "source": [
    "The paper thus provides not just the motivation to use models in sociology, but also some useful model frameworks and application areas for the models. All in all, the paper is a useful read to understand the evolving field at the intersection of sociology and computational science. "
   ]
  },
  {
   "cell_type": "markdown",
   "metadata": {},
   "source": [
    "## 2. Simulating your income"
   ]
  },
  {
   "cell_type": "markdown",
   "metadata": {},
   "source": [
    "### (a) Simulating the income matrix"
   ]
  },
  {
   "cell_type": "code",
   "execution_count": 27,
   "metadata": {},
   "outputs": [],
   "source": [
    "# Import initial packages\n",
    "import numpy as np\n",
    "import random\n",
    "import matplotlib.pyplot as plt\n",
    "from matplotlib.ticker import MultipleLocator\n",
    "import scipy.stats as scs\n",
    "from scipy.signal import savgol_filter"
   ]
  },
  {
   "cell_type": "code",
   "execution_count": 28,
   "metadata": {},
   "outputs": [],
   "source": [
    "#Define parameters\n",
    "p = {\n",
    "    \"mean\" : 0,\n",
    "    \"stdev\" : 0.13,\n",
    "    \"rho\" : 0.4,\n",
    "    \"g\" : 0.025,\n",
    "    \"I0\" : 80000,\n",
    "    \"y1\" : 2020,\n",
    "    \"work_life\" : 40,\n",
    "    \"sims\" : 10000,\n",
    "}\n",
    "#Setting random seed to control randomness\n",
    "np.random.seed(524)"
   ]
  },
  {
   "cell_type": "code",
   "execution_count": 29,
   "metadata": {},
   "outputs": [],
   "source": [
    "#Funcion creating the income matrix from the given equation\n",
    "def income_matrix(p):\n",
    "    log_errors = np.random.normal(p[\"mean\"], p[\"stdev\"], (p[\"sims\"], p[\"work_life\"]))\n",
    "    income_mat = np.zeros((p[\"sims\"], p[\"work_life\"]))\n",
    "    for i in range(0, p[\"sims\"]):\n",
    "        income_mat[i][0] = np.exp(np.log(p[\"I0\"]) + log_errors[i][0])\n",
    "        for j in range(1, p[\"work_life\"]):\n",
    "            income_mat[i][j] = np.exp((1 - p[\"rho\"]) * (np.log(p[\"I0\"]) + p[\"g\"] * j) \\\n",
    "                    + (p[\"rho\"] * np.log(income_mat[i][j-1])) + log_errors[i][j])\n",
    "    return income_mat"
   ]
  },
  {
   "cell_type": "code",
   "execution_count": 30,
   "metadata": {},
   "outputs": [
    {
     "name": "stderr",
     "output_type": "stream",
     "text": [
      "E:\\Anaconda3\\lib\\site-packages\\scipy\\signal\\_arraytools.py:45: FutureWarning: Using a non-tuple sequence for multidimensional indexing is deprecated; use `arr[tuple(seq)]` instead of `arr[seq]`. In the future this will be interpreted as an array index, `arr[np.array(seq)]`, which will result either in an error or a different result.\n",
      "  b = a[a_slice]\n"
     ]
    },
    {
     "data": {
      "text/plain": [
       "<module 'matplotlib.pyplot' from 'E:\\\\Anaconda3\\\\lib\\\\site-packages\\\\matplotlib\\\\pyplot.py'>"
      ]
     },
     "execution_count": 30,
     "metadata": {},
     "output_type": "execute_result"
    },
    {
     "data": {
      "image/png": "[encoded data removed]",
      "text/plain": [
       "<Figure size 432x288 with 1 Axes>"
      ]
     },
     "metadata": {
      "needs_background": "light"
     },
     "output_type": "display_data"
    }
   ],
   "source": [
    "income_mat = income_matrix(p)\n",
    "#Plotting the income path for simulation row no. 500\n",
    "SIM_NO = 500\n",
    "\n",
    "year_vec = np.arange(p[\"y1\"], p[\"y1\"] + p[\"work_life\"])\n",
    "fig, ax = plt.subplots()\n",
    "plt.plot(year_vec, income_mat[SIM_NO, :])\n",
    "\n",
    "#Fitting a smooth curve over the jagged graph\n",
    "yhat = savgol_filter(income_mat[SIM_NO, :], 31, 2) \n",
    "# window size 51, polynomial order 3\n",
    "plt.plot(year_vec, yhat, alpha = 0.5)\n",
    "\n",
    "minorLocator = MultipleLocator(1)\n",
    "ax.xaxis.set_minor_locator(minorLocator)\n",
    "plt.grid(b=True, which='major', color='0.65', linestyle='-')\n",
    "plt.title('Individual simulated lifetime income', fontsize=10)\n",
    "plt.xlabel(r'Year ($t$)')\n",
    "plt.ylabel(r'Annual income (\\$s)')\n",
    "\n",
    "plt"
   ]
  },
  {
   "cell_type": "markdown",
   "metadata": {},
   "source": [
    "### (b) Understanding distribution of starting income"
   ]
  },
  {
   "cell_type": "code",
   "execution_count": 31,
   "metadata": {},
   "outputs": [
    {
     "data": {
      "text/plain": [
       "Text(0.5,1,'Number of students in income bins')"
      ]
     },
     "execution_count": 31,
     "metadata": {},
     "output_type": "execute_result"
    },
    {
     "data": {
      "image/png": "[encoded data removed]",
      "text/plain": [
       "<Figure size 432x288 with 1 Axes>"
      ]
     },
     "metadata": {
      "needs_background": "light"
     },
     "output_type": "display_data"
    }
   ],
   "source": [
    "#Histogram for income at Y = 2020 for 10,000 simulations\n",
    "plt.hist(income_mat[:,0], bins=50)\n",
    "plt.xlabel('Income distribution for Y = 2020 (\\$s)')\n",
    "plt.title('Number of students in income bins')"
   ]
  },
  {
   "cell_type": "code",
   "execution_count": 32,
   "metadata": {},
   "outputs": [
    {
     "data": {
      "text/plain": [
       "4.510000000000005"
      ]
     },
     "execution_count": 32,
     "metadata": {},
     "output_type": "execute_result"
    }
   ],
   "source": [
    "#Percentile of students earning more than $100,000\n",
    "MIN_INCOME = 100000\n",
    "100 - scs.percentileofscore(income_mat[:,0], MIN_INCOME, kind='rank')"
   ]
  },
  {
   "cell_type": "code",
   "execution_count": 33,
   "metadata": {},
   "outputs": [
    {
     "data": {
      "text/plain": [
       "15.19"
      ]
     },
     "execution_count": 33,
     "metadata": {},
     "output_type": "execute_result"
    }
   ],
   "source": [
    "#Percentile of students earning less than 70,000\n",
    "MAX_INCOME = 70000\n",
    "scs.percentileofscore(income_mat[:,0], MAX_INCOME, kind='rank')"
   ]
  },
  {
   "cell_type": "markdown",
   "metadata": {},
   "source": [
    "(i) ~4.51 percentile students earn more than 100,000 dollars and ~15.19 percentile earned less than 70,000 dollars. <br>\n",
    "(ii) The distribution is more-or-less bell shaped and symmetric, and hence can be approximated to be a normal distribution."
   ]
  },
  {
   "cell_type": "markdown",
   "metadata": {},
   "source": [
    "### (c) Loan term simulation"
   ]
  },
  {
   "cell_type": "code",
   "execution_count": 34,
   "metadata": {},
   "outputs": [],
   "source": [
    "#Calculating the no. of years for loan repayment for each of the 10,000 simulations\n",
    "DEBT = 95000\n",
    "PAYMENT_PER = 0.1\n",
    "\n",
    "final_debt_year = np.zeros((p[\"sims\"], 1))\n",
    "np.shape(final_debt_year)\n",
    "\n",
    "for i in range(0, p[\"sims\"]):\n",
    "    payoff_mat = np.cumsum(income_mat[i,:]) * PAYMENT_PER\n",
    "    incomplete_pay = payoff_mat < DEBT\n",
    "    final_debt_year[i,0] = sum(incomplete_pay) + 1"
   ]
  },
  {
   "cell_type": "code",
   "execution_count": 35,
   "metadata": {},
   "outputs": [
    {
     "data": {
      "text/plain": [
       "Text(0.5,1,'No. of Students in Year Bins')"
      ]
     },
     "execution_count": 35,
     "metadata": {},
     "output_type": "execute_result"
    },
    {
     "data": {
      "image/png": "[encoded data removed]",
      "text/plain": [
       "<Figure size 432x288 with 1 Axes>"
      ]
     },
     "metadata": {
      "needs_background": "light"
     },
     "output_type": "display_data"
    }
   ],
   "source": [
    "#Histogram for no. of years of payoff for 100,000 simulations\n",
    "plt.hist(final_debt_year, bins = len(np.unique(final_debt_year)))\n",
    "plt.xlabel(\"Distribution for Years for Dept-Payoff\")\n",
    "plt.title(\"No. of Students in Year Bins\")"
   ]
  },
  {
   "cell_type": "code",
   "execution_count": 36,
   "metadata": {},
   "outputs": [
    {
     "data": {
      "text/plain": [
       "16.659999999999805"
      ]
     },
     "execution_count": 36,
     "metadata": {},
     "output_type": "execute_result"
    }
   ],
   "source": [
    "#Percentage of simulation where debt is paid off on or before 10 years\n",
    "MAX_PAYOFF_YEAR = 10\n",
    "sum(((final_debt_year[:,0] <= MAX_PAYOFF_YEAR)* 100 ) / p[\"sims\"])"
   ]
  },
  {
   "cell_type": "markdown",
   "metadata": {},
   "source": [
    "Percentable of simulation where debt is paid off on or before 10 years ~ 16.66%."
   ]
  },
  {
   "cell_type": "markdown",
   "metadata": {},
   "source": [
    "### (d) Loan term simulation with modified parameters"
   ]
  },
  {
   "cell_type": "code",
   "execution_count": 37,
   "metadata": {},
   "outputs": [
    {
     "data": {
      "text/plain": [
       "Text(0.5,1,'No. of Students in Year Bins')"
      ]
     },
     "execution_count": 37,
     "metadata": {},
     "output_type": "execute_result"
    },
    {
     "data": {
      "image/png": "[encoded data removed]",
      "text/plain": [
       "<Figure size 432x288 with 1 Axes>"
      ]
     },
     "metadata": {
      "needs_background": "light"
     },
     "output_type": "display_data"
    }
   ],
   "source": [
    "#Calculating income and debt payment matrices for new parameters\n",
    "p[\"I0\"] = 90000\n",
    "p[\"stdev\"] = 0.17\n",
    "income_mat = income_matrix(p)\n",
    "\n",
    "final_debt_year = np.zeros((p[\"sims\"], 1))\n",
    "for i in range(0, p[\"sims\"]):\n",
    "    payoff_mat = np.cumsum(income_mat[i,:]) * PAYMENT_PER\n",
    "    incomplete_pay = payoff_mat < DEBT\n",
    "    final_debt_year[i,0] = sum(incomplete_pay) + 1\n",
    "\n",
    "#New histogram for no. of years of payoff for 100,000 simulations\n",
    "plt.hist(final_debt_year, bins = len(np.unique(final_debt_year)))\n",
    "plt.xlabel(\"Distribution for Years for Dept-Payoff\")\n",
    "plt.title(\"No. of Students in Year Bins\")"
   ]
  },
  {
   "cell_type": "code",
   "execution_count": 38,
   "metadata": {},
   "outputs": [
    {
     "data": {
      "text/plain": [
       "76.48000000000222"
      ]
     },
     "execution_count": 38,
     "metadata": {},
     "output_type": "execute_result"
    }
   ],
   "source": [
    "#New percentage of simulation where debt is paid off on or before 10 years\n",
    "sum(((final_debt_year[:,0] <= MAX_PAYOFF_YEAR)* 100 ) / p[\"sims\"])"
   ]
  },
  {
   "cell_type": "markdown",
   "metadata": {},
   "source": [
    "Percentable of simulation where debt is paid off on or before 10 years ~ 76.48%."
   ]
  }
 ],
 "metadata": {
  "kernelspec": {
   "display_name": "Python 3",
   "language": "python",
   "name": "python3"
  },
  "language_info": {
   "codemirror_mode": {
    "name": "ipython",
    "version": 3
   },
   "file_extension": ".py",
   "mimetype": "text/x-python",
   "name": "python",
   "nbconvert_exporter": "python",
   "pygments_lexer": "ipython3",
   "version": "3.7.0"
  }
 },
 "nbformat": 4,
 "nbformat_minor": 2
}
